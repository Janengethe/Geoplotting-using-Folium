{
 "cells": [
  {
   "cell_type": "code",
   "execution_count": 9,
   "id": "a9e72bca",
   "metadata": {},
   "outputs": [],
   "source": [
    "import pandas as pd\n",
    "import numpy as np\n",
    "import matplotlib.pyplot as plt\n",
    "import plotly.express as px\n",
    "import folium"
   ]
  },
  {
   "cell_type": "code",
   "execution_count": null,
   "id": "2c543958",
   "metadata": {},
   "outputs": [],
   "source": []
  },
  {
   "cell_type": "markdown",
   "id": "f24fbc33",
   "metadata": {},
   "source": [
    "Assigment\n",
    "Mini-Project: Analyzing and Visualizing Bike Share Data with Folium and Python\n",
    "Objective:\n",
    "In this mini-project, you will apply the skills learned in the previous exercises to a real-world geospatial dataset. You will analyze bike share data, visualize the locations and usage of bike share stations, and interpret the results using Folium and Python.\n",
    "\n",
    "Dataset:\n",
    "Bike Share Data (e.g., Ford GoBike Data: https://www.kaggle.com/code/chirag02/ford-gobike-data-analysis)\n",
    "\n",
    "Tasks:\n",
    "Download and preprocess the bike share data.\n",
    "Download the bike share data from Kaggle (https://www.kaggle.com/code/chirag02/ford-gobike-data-analysis) and save it as a CSV file. Read the data into Python and preprocess it, if necessary, to extract information about the bike share stations, such as the station name, latitude, longitude, and the number of rides originating from each station.\n",
    "\n",
    "Analyze the bike share data.\n",
    "Using Python, analyze the bike share data to identify patterns and trends in usage. This may include calculating metrics such as the most popular stations, the least popular stations, the average number of rides per station, or any other insights you find interesting.\n",
    "\n",
    "Create a folium map to visualize the bike share data.\n",
    "Create a new folium map centered on the city where the bike share system is located, with an appropriate zoom level.\n",
    "\n",
    "Plot the bike share station data on the map.\n",
    "For each station, create a folium marker at the corresponding latitude and longitude. Customize the marker appearance based on the number of rides originating from the station (e.g., use different colors or icons for different usage ranges). Add a popup to each marker that displays the station's name and the number of rides.\n",
    "\n",
    "Interpret the results.\n",
    "Based on your analysis and visualization, draw conclusions about the bike share system. Identify any trends, patterns, or areas for improvement, and discuss how the information could be used by city planners or bike share operators to optimize the system.\n",
    "\n",
    "Save the folium map as an HTML file.\n",
    "Save the completed folium map as an HTML file so that you can easily share it with others or embed it in a web page."
   ]
  }
 ],
 "metadata": {
  "kernelspec": {
   "display_name": "Python 3 (ipykernel)",
   "language": "python",
   "name": "python3"
  },
  "language_info": {
   "codemirror_mode": {
    "name": "ipython",
    "version": 3
   },
   "file_extension": ".py",
   "mimetype": "text/x-python",
   "name": "python",
   "nbconvert_exporter": "python",
   "pygments_lexer": "ipython3",
   "version": "3.11.3"
  }
 },
 "nbformat": 4,
 "nbformat_minor": 5
}
